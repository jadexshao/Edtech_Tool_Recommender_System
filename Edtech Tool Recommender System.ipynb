{
 "cells": [
  {
   "cell_type": "code",
   "execution_count": 226,
   "metadata": {},
   "outputs": [],
   "source": [
    "import requests\n",
    "import pandas as pd\n",
    "import numpy as np\n",
    "\n",
    "url = requests.get('https://www.commonsense.org/education/app/wizard-school')\n",
    "\n"
   ]
  },
  {
   "cell_type": "code",
   "execution_count": 194,
   "metadata": {},
   "outputs": [],
   "source": [
    "from bs4 import BeautifulSoup\n",
    "\n",
    "soup = BeautifulSoup(url.text, 'html.parser')"
   ]
  },
  {
   "cell_type": "code",
   "execution_count": 209,
   "metadata": {},
   "outputs": [],
   "source": [
    "records = []\n",
    "\n",
    "product_name = soup.h1.string\n",
    "\n",
    "\n",
    "product_name\n",
    "records.append(product_name)\n"
   ]
  },
  {
   "cell_type": "code",
   "execution_count": 210,
   "metadata": {},
   "outputs": [],
   "source": [
    "grade = soup.find('div', attrs={'class':'product-grades__value'})\n",
    "grades= ((grade.find('span'))).string\n",
    "\n",
    "\n",
    "grades\n",
    "records.append(grades)\n"
   ]
  },
  {
   "cell_type": "code",
   "execution_count": 211,
   "metadata": {},
   "outputs": [],
   "source": [
    "price = soup.find('span', attrs = {'class': 'product-price__value'}).string\n",
    "\n",
    "price\n",
    "records.append(price)"
   ]
  },
  {
   "cell_type": "code",
   "execution_count": 212,
   "metadata": {},
   "outputs": [
    {
     "name": "stdout",
     "output_type": "stream",
     "text": [
      "Creativity\n",
      "Character & SEL\n"
     ]
    }
   ],
   "source": [
    "skill = soup.find('div',attrs = {'class': 'subjects-skills__item'})\n",
    "skill_1 = (skill.find('span')).string\n",
    "print(skill_1)\n",
    "\n",
    "skill_2 = skill_1.find_next('span').string\n",
    "print(skill_2)\n",
    "\n",
    "records.append(skill_1)\n",
    "records.append(skill_2)"
   ]
  },
  {
   "cell_type": "code",
   "execution_count": 213,
   "metadata": {},
   "outputs": [],
   "source": [
    "subject = skill.find_next('div',attrs = {'class': 'subjects-skills__item'})\n",
    "\n",
    "subjects = (subject.find('span')).string\n",
    "\n",
    "subjects\n",
    "records.append(subjects)"
   ]
  },
  {
   "cell_type": "code",
   "execution_count": 214,
   "metadata": {},
   "outputs": [],
   "source": [
    "p_des = soup.find('div',attrs = {'id': 'collapse-tool-overview'})\n",
    "\n",
    "product_description = (p_des.find('p')).text\n",
    "\n",
    "product_description\n",
    "records.append(product_description)"
   ]
  },
  {
   "cell_type": "code",
   "execution_count": 215,
   "metadata": {},
   "outputs": [],
   "source": [
    "teacher = soup.find('a',attrs = {'class':'mobile-break teacher-name'}).string\n",
    "\n",
    "teacher\n",
    "records.append(teacher)\n",
    "\n"
   ]
  },
  {
   "cell_type": "code",
   "execution_count": 217,
   "metadata": {},
   "outputs": [],
   "source": [
    "\n",
    "\n",
    "school = soup.find('div', attrs = {'class': 'school-info mobile-hide'}).text\n",
    "\n",
    "s_sp = school.split()\n",
    "\n",
    "school_name = s_sp[0]+\" \"+ s_sp[1] + \" \" + s_sp[2]\n",
    "\n",
    "school_name\n",
    "records.append(school_name)\n"
   ]
  },
  {
   "cell_type": "code",
   "execution_count": 218,
   "metadata": {},
   "outputs": [],
   "source": [
    "rating = soup.find('span', attrs = {'class': 'rating-star gray rating-5'})\n",
    "\n",
    "teacher_rating = rating.find_next('span').string\n",
    "\n",
    "teacher_rating\n",
    "records.append(teacher_rating)"
   ]
  },
  {
   "cell_type": "code",
   "execution_count": 219,
   "metadata": {},
   "outputs": [],
   "source": [
    "review = rating.find_next('p')\n",
    "teacher_review = review.string\n",
    "\n",
    "teacher_review\n",
    "records.append(teacher_review)"
   ]
  },
  {
   "cell_type": "code",
   "execution_count": 234,
   "metadata": {},
   "outputs": [
    {
     "data": {
      "text/html": [
       "<div>\n",
       "<style>\n",
       "    .dataframe thead tr:only-child th {\n",
       "        text-align: right;\n",
       "    }\n",
       "\n",
       "    .dataframe thead th {\n",
       "        text-align: left;\n",
       "    }\n",
       "\n",
       "    .dataframe tbody tr th {\n",
       "        vertical-align: top;\n",
       "    }\n",
       "</style>\n",
       "<table border=\"1\" class=\"dataframe\">\n",
       "  <thead>\n",
       "    <tr style=\"text-align: right;\">\n",
       "      <th></th>\n",
       "      <th>product_name</th>\n",
       "      <th>grades</th>\n",
       "      <th>price</th>\n",
       "      <th>skill_1</th>\n",
       "      <th>skill_2</th>\n",
       "      <th>subjects</th>\n",
       "      <th>product_description</th>\n",
       "      <th>teacher</th>\n",
       "      <th>school_name</th>\n",
       "      <th>teacher_rating</th>\n",
       "      <th>teacher_review</th>\n",
       "    </tr>\n",
       "  </thead>\n",
       "  <tbody>\n",
       "    <tr>\n",
       "      <th>0</th>\n",
       "      <td>Wizard School</td>\n",
       "      <td>2-8</td>\n",
       "      <td>Free</td>\n",
       "      <td>Creativity</td>\n",
       "      <td>Character &amp; SEL</td>\n",
       "      <td>Arts</td>\n",
       "      <td>In their own unique Wizard School account, kid...</td>\n",
       "      <td>Christi C.</td>\n",
       "      <td>Wise Primary School</td>\n",
       "      <td>5</td>\n",
       "      <td>Wonderbox is one of the best educational apps ...</td>\n",
       "    </tr>\n",
       "  </tbody>\n",
       "</table>\n",
       "</div>"
      ],
      "text/plain": [
       "    product_name grades price     skill_1          skill_2 subjects  \\\n",
       "0  Wizard School    2-8  Free  Creativity  Character & SEL     Arts   \n",
       "\n",
       "                                 product_description     teacher  \\\n",
       "0  In their own unique Wizard School account, kid...  Christi C.   \n",
       "\n",
       "           school_name teacher_rating  \\\n",
       "0  Wise Primary School              5   \n",
       "\n",
       "                                      teacher_review  \n",
       "0  Wonderbox is one of the best educational apps ...  "
      ]
     },
     "execution_count": 234,
     "metadata": {},
     "output_type": "execute_result"
    }
   ],
   "source": [
    "df = pd.DataFrame(records).transpose()\n",
    "df.columns = ['product_name','grades','price','skill_1','skill_2','subjects','product_description','teacher',\n",
    "             'school_name', 'teacher_rating','teacher_review']\n",
    "df\n"
   ]
  },
  {
   "cell_type": "code",
   "execution_count": null,
   "metadata": {
    "collapsed": true
   },
   "outputs": [],
   "source": []
  }
 ],
 "metadata": {
  "kernelspec": {
   "display_name": "Python 3",
   "language": "python",
   "name": "python3"
  },
  "language_info": {
   "codemirror_mode": {
    "name": "ipython",
    "version": 3
   },
   "file_extension": ".py",
   "mimetype": "text/x-python",
   "name": "python",
   "nbconvert_exporter": "python",
   "pygments_lexer": "ipython3",
   "version": "3.6.1"
  }
 },
 "nbformat": 4,
 "nbformat_minor": 2
}
